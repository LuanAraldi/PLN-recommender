{
 "cells": [
  {
   "cell_type": "code",
   "execution_count": 1,
   "metadata": {},
   "outputs": [],
   "source": [
    "import pandas as pd \n",
    "import numpy as np\n",
    "import warnings\n",
    "import matplotlib.pyplot as plt\n",
    "import seaborn as sns\n",
    "import requests\n",
    "import re\n",
    "import dask.dataframe as dd\n",
    "import json\n",
    "import sys\n",
    "import time\n",
    "import pylab as pl\n",
    "from functools import reduce\n",
    "from sklearn.metrics.pairwise import cosine_similarity\n",
    "from sklearn.feature_extraction.text import CountVectorizer\n",
    "from google.cloud import language\n",
    "from google.cloud.language import enums\n",
    "from google.cloud.language import types\n",
    "from concurrent.futures import ThreadPoolExecutor, ProcessPoolExecutor, wait\n",
    "%matplotlib inline\n",
    "warnings.filterwarnings('ignore')"
   ]
  },
  {
   "cell_type": "markdown",
   "metadata": {},
   "source": [
    "## Lendo base de dados em CSV"
   ]
  },
  {
   "cell_type": "code",
   "execution_count": 2,
   "metadata": {},
   "outputs": [
    {
     "data": {
      "text/html": [
       "<div>\n",
       "<style scoped>\n",
       "    .dataframe tbody tr th:only-of-type {\n",
       "        vertical-align: middle;\n",
       "    }\n",
       "\n",
       "    .dataframe tbody tr th {\n",
       "        vertical-align: top;\n",
       "    }\n",
       "\n",
       "    .dataframe thead th {\n",
       "        text-align: right;\n",
       "    }\n",
       "</style>\n",
       "<table border=\"1\" class=\"dataframe\">\n",
       "  <thead>\n",
       "    <tr style=\"text-align: right;\">\n",
       "      <th></th>\n",
       "      <th>asins</th>\n",
       "      <th>name</th>\n",
       "      <th>categories</th>\n",
       "      <th>reviews.text</th>\n",
       "      <th>reviews.title</th>\n",
       "    </tr>\n",
       "  </thead>\n",
       "  <tbody>\n",
       "    <tr>\n",
       "      <th>0</th>\n",
       "      <td>B01AHB9CN2</td>\n",
       "      <td>All-New Fire HD 8 Tablet, 8 HD Display, Wi-Fi,...</td>\n",
       "      <td>Electronics,iPad &amp; Tablets,All Tablets,Fire Ta...</td>\n",
       "      <td>This product so far has not disappointed. My c...</td>\n",
       "      <td>Kindle</td>\n",
       "    </tr>\n",
       "    <tr>\n",
       "      <th>4000</th>\n",
       "      <td>B018Y229OU</td>\n",
       "      <td>Fire Tablet, 7 Display, Wi-Fi, 8 GB - Includes...</td>\n",
       "      <td>Fire Tablets,Tablets,Computers &amp; Tablets,All T...</td>\n",
       "      <td>This is a good kids 1st. Tablet and for a pric...</td>\n",
       "      <td>good price for a kids 1st tablet</td>\n",
       "    </tr>\n",
       "    <tr>\n",
       "      <th>14600</th>\n",
       "      <td>B018Y229OU</td>\n",
       "      <td>Brand New Amazon Kindle Fire 16gb 7 Ips Displa...</td>\n",
       "      <td>Fire Tablets,Tablets,Computers &amp; Tablets,All T...</td>\n",
       "      <td>Great purchase my grandson Alek loves his tabl...</td>\n",
       "      <td>Grandson loves it</td>\n",
       "    </tr>\n",
       "    <tr>\n",
       "      <th>20000</th>\n",
       "      <td>B00OQVZDJM</td>\n",
       "      <td>Amazon Kindle Paperwhite - eBook reader - 4 GB...</td>\n",
       "      <td>Walmart for Business,Office Electronics,Tablet...</td>\n",
       "      <td>While reading might be a bit easier on the Pap...</td>\n",
       "      <td>Replaced with Kindle Fire</td>\n",
       "    </tr>\n",
       "    <tr>\n",
       "      <th>31345</th>\n",
       "      <td>B00U3FPN4U</td>\n",
       "      <td>NaN</td>\n",
       "      <td>Back To College,College Electronics,College Tv...</td>\n",
       "      <td>Does what's advertised! Great with 4K handling...</td>\n",
       "      <td>It's a Fire TV</td>\n",
       "    </tr>\n",
       "  </tbody>\n",
       "</table>\n",
       "</div>"
      ],
      "text/plain": [
       "            asins                                               name  \\\n",
       "0      B01AHB9CN2  All-New Fire HD 8 Tablet, 8 HD Display, Wi-Fi,...   \n",
       "4000   B018Y229OU  Fire Tablet, 7 Display, Wi-Fi, 8 GB - Includes...   \n",
       "14600  B018Y229OU  Brand New Amazon Kindle Fire 16gb 7 Ips Displa...   \n",
       "20000  B00OQVZDJM  Amazon Kindle Paperwhite - eBook reader - 4 GB...   \n",
       "31345  B00U3FPN4U                                                NaN   \n",
       "\n",
       "                                              categories  \\\n",
       "0      Electronics,iPad & Tablets,All Tablets,Fire Ta...   \n",
       "4000   Fire Tablets,Tablets,Computers & Tablets,All T...   \n",
       "14600  Fire Tablets,Tablets,Computers & Tablets,All T...   \n",
       "20000  Walmart for Business,Office Electronics,Tablet...   \n",
       "31345  Back To College,College Electronics,College Tv...   \n",
       "\n",
       "                                            reviews.text  \\\n",
       "0      This product so far has not disappointed. My c...   \n",
       "4000   This is a good kids 1st. Tablet and for a pric...   \n",
       "14600  Great purchase my grandson Alek loves his tabl...   \n",
       "20000  While reading might be a bit easier on the Pap...   \n",
       "31345  Does what's advertised! Great with 4K handling...   \n",
       "\n",
       "                          reviews.title  \n",
       "0                                Kindle  \n",
       "4000   good price for a kids 1st tablet  \n",
       "14600                 Grandson loves it  \n",
       "20000         Replaced with Kindle Fire  \n",
       "31345                    It's a Fire TV  "
      ]
     },
     "execution_count": 2,
     "metadata": {},
     "output_type": "execute_result"
    }
   ],
   "source": [
    "df = pd.read_csv('1429_1.csv')\n",
    "df[['asins', 'name', 'categories', 'reviews.text', 'reviews.title']].take([0,4000, 14600, 20000, 31345])"
   ]
  },
  {
   "cell_type": "markdown",
   "metadata": {},
   "source": [
    "## Análise"
   ]
  },
  {
   "cell_type": "code",
   "execution_count": 3,
   "metadata": {},
   "outputs": [
    {
     "name": "stdout",
     "output_type": "stream",
     "text": [
      "<class 'pandas.core.frame.DataFrame'>\n",
      "RangeIndex: 34660 entries, 0 to 34659\n",
      "Data columns (total 21 columns):\n",
      "id                      34660 non-null object\n",
      "name                    27900 non-null object\n",
      "asins                   34658 non-null object\n",
      "brand                   34660 non-null object\n",
      "categories              34660 non-null object\n",
      "keys                    34660 non-null object\n",
      "manufacturer            34660 non-null object\n",
      "reviews.date            34621 non-null object\n",
      "reviews.dateAdded       24039 non-null object\n",
      "reviews.dateSeen        34660 non-null object\n",
      "reviews.didPurchase     1 non-null object\n",
      "reviews.doRecommend     34066 non-null object\n",
      "reviews.id              1 non-null float64\n",
      "reviews.numHelpful      34131 non-null float64\n",
      "reviews.rating          34627 non-null float64\n",
      "reviews.sourceURLs      34660 non-null object\n",
      "reviews.text            34659 non-null object\n",
      "reviews.title           34655 non-null object\n",
      "reviews.userCity        0 non-null float64\n",
      "reviews.userProvince    0 non-null float64\n",
      "reviews.username        34658 non-null object\n",
      "dtypes: float64(5), object(16)\n",
      "memory usage: 5.6+ MB\n"
     ]
    }
   ],
   "source": [
    "df.info()"
   ]
  },
  {
   "cell_type": "markdown",
   "metadata": {},
   "source": [
    "### Como mostra os dados acima, existem 34660 reviews de produtos identificados, mas somente 34658 ids de produto  \n",
    "### <span style=\"color:red\">TRATAR ISSO</span>"
   ]
  },
  {
   "cell_type": "code",
   "execution_count": 4,
   "metadata": {},
   "outputs": [
    {
     "data": {
      "text/html": [
       "<div>\n",
       "<style scoped>\n",
       "    .dataframe tbody tr th:only-of-type {\n",
       "        vertical-align: middle;\n",
       "    }\n",
       "\n",
       "    .dataframe tbody tr th {\n",
       "        vertical-align: top;\n",
       "    }\n",
       "\n",
       "    .dataframe thead th {\n",
       "        text-align: right;\n",
       "    }\n",
       "</style>\n",
       "<table border=\"1\" class=\"dataframe\">\n",
       "  <thead>\n",
       "    <tr style=\"text-align: right;\">\n",
       "      <th></th>\n",
       "      <th>reviews.rating</th>\n",
       "    </tr>\n",
       "  </thead>\n",
       "  <tbody>\n",
       "    <tr>\n",
       "      <th>count</th>\n",
       "      <td>34627.000000</td>\n",
       "    </tr>\n",
       "    <tr>\n",
       "      <th>mean</th>\n",
       "      <td>4.584573</td>\n",
       "    </tr>\n",
       "    <tr>\n",
       "      <th>std</th>\n",
       "      <td>0.735653</td>\n",
       "    </tr>\n",
       "    <tr>\n",
       "      <th>min</th>\n",
       "      <td>1.000000</td>\n",
       "    </tr>\n",
       "    <tr>\n",
       "      <th>25%</th>\n",
       "      <td>4.000000</td>\n",
       "    </tr>\n",
       "    <tr>\n",
       "      <th>50%</th>\n",
       "      <td>5.000000</td>\n",
       "    </tr>\n",
       "    <tr>\n",
       "      <th>75%</th>\n",
       "      <td>5.000000</td>\n",
       "    </tr>\n",
       "    <tr>\n",
       "      <th>max</th>\n",
       "      <td>5.000000</td>\n",
       "    </tr>\n",
       "  </tbody>\n",
       "</table>\n",
       "</div>"
      ],
      "text/plain": [
       "       reviews.rating\n",
       "count    34627.000000\n",
       "mean         4.584573\n",
       "std          0.735653\n",
       "min          1.000000\n",
       "25%          4.000000\n",
       "50%          5.000000\n",
       "75%          5.000000\n",
       "max          5.000000"
      ]
     },
     "execution_count": 4,
     "metadata": {},
     "output_type": "execute_result"
    }
   ],
   "source": [
    "df[['reviews.rating']].describe()"
   ]
  },
  {
   "cell_type": "markdown",
   "metadata": {},
   "source": [
    "## Agrupando produtos por média de nota de review  \n",
    "Isso será usado para facilitar no cálculo da correlação de produtos mais a frente"
   ]
  },
  {
   "cell_type": "code",
   "execution_count": 5,
   "metadata": {},
   "outputs": [],
   "source": [
    "products = pd.DataFrame(df.groupby('asins')['reviews.rating'].mean())"
   ]
  },
  {
   "cell_type": "code",
   "execution_count": 6,
   "metadata": {},
   "outputs": [
    {
     "name": "stdout",
     "output_type": "stream",
     "text": [
      "<class 'pandas.core.frame.DataFrame'>\n",
      "Index: 41 entries, B002Y27P3M to B01J4ORNHU\n",
      "Data columns (total 1 columns):\n",
      "reviews.rating    38 non-null float64\n",
      "dtypes: float64(1)\n",
      "memory usage: 656.0+ bytes\n"
     ]
    }
   ],
   "source": [
    "products.info()"
   ]
  },
  {
   "cell_type": "code",
   "execution_count": 7,
   "metadata": {},
   "outputs": [
    {
     "data": {
      "text/html": [
       "<div>\n",
       "<style scoped>\n",
       "    .dataframe tbody tr th:only-of-type {\n",
       "        vertical-align: middle;\n",
       "    }\n",
       "\n",
       "    .dataframe tbody tr th {\n",
       "        vertical-align: top;\n",
       "    }\n",
       "\n",
       "    .dataframe thead th {\n",
       "        text-align: right;\n",
       "    }\n",
       "</style>\n",
       "<table border=\"1\" class=\"dataframe\">\n",
       "  <thead>\n",
       "    <tr style=\"text-align: right;\">\n",
       "      <th></th>\n",
       "      <th>reviews.rating</th>\n",
       "    </tr>\n",
       "    <tr>\n",
       "      <th>asins</th>\n",
       "      <th></th>\n",
       "    </tr>\n",
       "  </thead>\n",
       "  <tbody>\n",
       "    <tr>\n",
       "      <th>B002Y27P3M</th>\n",
       "      <td>NaN</td>\n",
       "    </tr>\n",
       "    <tr>\n",
       "      <th>B002Y27P6Y</th>\n",
       "      <td>3.500000</td>\n",
       "    </tr>\n",
       "    <tr>\n",
       "      <th>B005PB2T0S</th>\n",
       "      <td>4.000000</td>\n",
       "    </tr>\n",
       "    <tr>\n",
       "      <th>B005PB2T2Q</th>\n",
       "      <td>3.666667</td>\n",
       "    </tr>\n",
       "    <tr>\n",
       "      <th>B006GWO5NE</th>\n",
       "      <td>4.875000</td>\n",
       "    </tr>\n",
       "  </tbody>\n",
       "</table>\n",
       "</div>"
      ],
      "text/plain": [
       "            reviews.rating\n",
       "asins                     \n",
       "B002Y27P3M             NaN\n",
       "B002Y27P6Y        3.500000\n",
       "B005PB2T0S        4.000000\n",
       "B005PB2T2Q        3.666667\n",
       "B006GWO5NE        4.875000"
      ]
     },
     "execution_count": 7,
     "metadata": {},
     "output_type": "execute_result"
    }
   ],
   "source": [
    "products.head()"
   ]
  },
  {
   "cell_type": "markdown",
   "metadata": {},
   "source": [
    "## Identifica quantas avaliações existem por produto e insere no dataframe"
   ]
  },
  {
   "cell_type": "code",
   "execution_count": 8,
   "metadata": {},
   "outputs": [
    {
     "data": {
      "text/html": [
       "<div>\n",
       "<style scoped>\n",
       "    .dataframe tbody tr th:only-of-type {\n",
       "        vertical-align: middle;\n",
       "    }\n",
       "\n",
       "    .dataframe tbody tr th {\n",
       "        vertical-align: top;\n",
       "    }\n",
       "\n",
       "    .dataframe thead th {\n",
       "        text-align: right;\n",
       "    }\n",
       "</style>\n",
       "<table border=\"1\" class=\"dataframe\">\n",
       "  <thead>\n",
       "    <tr style=\"text-align: right;\">\n",
       "      <th></th>\n",
       "      <th>reviews.rating</th>\n",
       "      <th>number_of_ratings</th>\n",
       "    </tr>\n",
       "    <tr>\n",
       "      <th>asins</th>\n",
       "      <th></th>\n",
       "      <th></th>\n",
       "    </tr>\n",
       "  </thead>\n",
       "  <tbody>\n",
       "    <tr>\n",
       "      <th>B002Y27P3M</th>\n",
       "      <td>NaN</td>\n",
       "      <td>0</td>\n",
       "    </tr>\n",
       "    <tr>\n",
       "      <th>B002Y27P6Y</th>\n",
       "      <td>3.500000</td>\n",
       "      <td>10</td>\n",
       "    </tr>\n",
       "    <tr>\n",
       "      <th>B005PB2T0S</th>\n",
       "      <td>4.000000</td>\n",
       "      <td>5</td>\n",
       "    </tr>\n",
       "    <tr>\n",
       "      <th>B005PB2T2Q</th>\n",
       "      <td>3.666667</td>\n",
       "      <td>6</td>\n",
       "    </tr>\n",
       "    <tr>\n",
       "      <th>B006GWO5NE</th>\n",
       "      <td>4.875000</td>\n",
       "      <td>8</td>\n",
       "    </tr>\n",
       "  </tbody>\n",
       "</table>\n",
       "</div>"
      ],
      "text/plain": [
       "            reviews.rating  number_of_ratings\n",
       "asins                                        \n",
       "B002Y27P3M             NaN                  0\n",
       "B002Y27P6Y        3.500000                 10\n",
       "B005PB2T0S        4.000000                  5\n",
       "B005PB2T2Q        3.666667                  6\n",
       "B006GWO5NE        4.875000                  8"
      ]
     },
     "execution_count": 8,
     "metadata": {},
     "output_type": "execute_result"
    }
   ],
   "source": [
    "products['number_of_ratings'] = df.groupby('asins')['reviews.rating'].count()\n",
    "products.head()"
   ]
  },
  {
   "cell_type": "code",
   "execution_count": 9,
   "metadata": {},
   "outputs": [
    {
     "data": {
      "text/html": [
       "<div>\n",
       "<style scoped>\n",
       "    .dataframe tbody tr th:only-of-type {\n",
       "        vertical-align: middle;\n",
       "    }\n",
       "\n",
       "    .dataframe tbody tr th {\n",
       "        vertical-align: top;\n",
       "    }\n",
       "\n",
       "    .dataframe thead th {\n",
       "        text-align: right;\n",
       "    }\n",
       "</style>\n",
       "<table border=\"1\" class=\"dataframe\">\n",
       "  <thead>\n",
       "    <tr style=\"text-align: right;\">\n",
       "      <th></th>\n",
       "      <th>reviews.rating</th>\n",
       "      <th>number_of_ratings</th>\n",
       "    </tr>\n",
       "  </thead>\n",
       "  <tbody>\n",
       "    <tr>\n",
       "      <th>count</th>\n",
       "      <td>38.000000</td>\n",
       "      <td>41.000000</td>\n",
       "    </tr>\n",
       "    <tr>\n",
       "      <th>mean</th>\n",
       "      <td>4.411462</td>\n",
       "      <td>844.512195</td>\n",
       "    </tr>\n",
       "    <tr>\n",
       "      <th>std</th>\n",
       "      <td>0.568281</td>\n",
       "      <td>2142.269919</td>\n",
       "    </tr>\n",
       "    <tr>\n",
       "      <th>min</th>\n",
       "      <td>2.461538</td>\n",
       "      <td>0.000000</td>\n",
       "    </tr>\n",
       "    <tr>\n",
       "      <th>25%</th>\n",
       "      <td>4.428623</td>\n",
       "      <td>7.000000</td>\n",
       "    </tr>\n",
       "    <tr>\n",
       "      <th>50%</th>\n",
       "      <td>4.557075</td>\n",
       "      <td>15.000000</td>\n",
       "    </tr>\n",
       "    <tr>\n",
       "      <th>75%</th>\n",
       "      <td>4.705459</td>\n",
       "      <td>372.000000</td>\n",
       "    </tr>\n",
       "    <tr>\n",
       "      <th>max</th>\n",
       "      <td>5.000000</td>\n",
       "      <td>10966.000000</td>\n",
       "    </tr>\n",
       "  </tbody>\n",
       "</table>\n",
       "</div>"
      ],
      "text/plain": [
       "       reviews.rating  number_of_ratings\n",
       "count       38.000000          41.000000\n",
       "mean         4.411462         844.512195\n",
       "std          0.568281        2142.269919\n",
       "min          2.461538           0.000000\n",
       "25%          4.428623           7.000000\n",
       "50%          4.557075          15.000000\n",
       "75%          4.705459         372.000000\n",
       "max          5.000000       10966.000000"
      ]
     },
     "execution_count": 9,
     "metadata": {},
     "output_type": "execute_result"
    }
   ],
   "source": [
    "products.describe()"
   ]
  },
  {
   "cell_type": "markdown",
   "metadata": {},
   "source": [
    "## Visualização da distribuição das notas em produtos"
   ]
  },
  {
   "cell_type": "code",
   "execution_count": 15,
   "metadata": {},
   "outputs": [
    {
     "data": {
      "text/plain": [
       "Text(0, 0.5, 'Número de avaliações (em milhar)')"
      ]
     },
     "execution_count": 15,
     "metadata": {},
     "output_type": "execute_result"
    },
    {
     "data": {
      "image/png": "[encoded data removed]",
      "text/plain": [
       "<Figure size 432x288 with 1 Axes>"
      ]
     },
     "metadata": {
      "needs_background": "light"
     },
     "output_type": "display_data"
    }
   ],
   "source": [
    "axarr = products['reviews.rating'].hist()\n",
    "pl.title(\"Histograma de Avaliações\")\n",
    "pl.xlabel('Notas da Avaliação')\n",
    "pl.ylabel('Número de avaliações (em milhar)')"
   ]
  },
  {
   "cell_type": "code",
   "execution_count": 111,
   "metadata": {},
   "outputs": [
    {
     "data": {
      "text/plain": [
       "<matplotlib.axes._subplots.AxesSubplot at 0x7fb0b42cef28>"
      ]
     },
     "execution_count": 111,
     "metadata": {},
     "output_type": "execute_result"
    },
    {
     "data": {
      "image/png": "[encoded data removed]",
      "text/plain": [
       "<Figure size 432x288 with 1 Axes>"
      ]
     },
     "metadata": {
      "needs_background": "light"
     },
     "output_type": "display_data"
    }
   ],
   "source": [
    "products['number_of_ratings'].hist()"
   ]
  },
  {
   "cell_type": "code",
   "execution_count": 19,
   "metadata": {},
   "outputs": [
    {
     "data": {
      "text/plain": [
       "<seaborn.axisgrid.JointGrid at 0x7f9bd0402d68>"
      ]
     },
     "execution_count": 19,
     "metadata": {},
     "output_type": "execute_result"
    },
    {
     "data": {
      "image/png": "[encoded data removed]",
      "text/plain": [
       "<Figure size 432x432 with 3 Axes>"
      ]
     },
     "metadata": {
      "needs_background": "light"
     },
     "output_type": "display_data"
    }
   ],
   "source": [
    "h = sns.jointplot(x='reviews.rating', y='number_of_ratings', data=products)\n",
    "\n",
    "h.set_axis_labels('Nota da Avaliação', 'Quantidade de Avaliações', fontsize=16)"
   ]
  },
  {
   "cell_type": "code",
   "execution_count": 21,
   "metadata": {},
   "outputs": [
    {
     "data": {
      "text/plain": [
       "B018Y229OU               10966\n",
       "B00L9EPT8O,B01E6AO69U     6619\n",
       "B00U3FPN4U                5056\n",
       "B00OQVZDJM                3176\n",
       "B01AHB9CN2                2814\n",
       "B018Y23MNM                1685\n",
       "B018Y225IA                1038\n",
       "B01BH83OOM                 636\n",
       "B00IOY8XWQ                 580\n",
       "B01J2G4VBG                 402\n",
       "B00TSUGXKE                 372\n",
       "B018SZT3BK                 270\n",
       "B0189XYY0Q                 256\n",
       "B00ZV9PXP2                 212\n",
       "B01AHB9CYG                 158\n",
       "B00QFQRELG                  73\n",
       "B00VINDBJK                  67\n",
       "B00IOYAM4I                  51\n",
       "B01BFIBRIE                  30\n",
       "B002Y27P3M                  19\n",
       "B00QJDU3KY                  19\n",
       "B01J4ORNHU                  16\n",
       "B00QL1ZN3G                  15\n",
       "B01AHB9C1E                  14\n",
       "B00LW9XOJM                  13\n",
       "B006GWO5WK                  13\n",
       "B002Y27P6Y                  10\n",
       "B018Y22BI4                  10\n",
       "B006GWO5NE                   8\n",
       "B00UH4D8G2                   8\n",
       "B00X4WHP5E                   7\n",
       "B018T075DC                   7\n",
       "B005PB2T2Q                   6\n",
       "B00REQKWGA                   6\n",
       "B00DU15MU4                   6\n",
       "B018Y22C2Y                   6\n",
       "B005PB2T0S                   5\n",
       "B0083Q04TA                   4\n",
       "B00LO29KXQ                   3\n",
       "B018Y23P7K                   1\n",
       "B00BFJAHF8                   1\n",
       "Name: asins, dtype: int64"
      ]
     },
     "execution_count": 21,
     "metadata": {},
     "output_type": "execute_result"
    }
   ],
   "source": [
    "df['asins'].value_counts()"
   ]
  },
  {
   "cell_type": "code",
   "execution_count": 24,
   "metadata": {},
   "outputs": [
    {
     "data": {
      "text/plain": [
       "34660"
      ]
     },
     "execution_count": 24,
     "metadata": {},
     "output_type": "execute_result"
    }
   ],
   "source": [
    "df['asins'].size"
   ]
  },
  {
   "cell_type": "markdown",
   "metadata": {},
   "source": [
    "## Motor de recomendação\n",
    "### Criação de uma matriz de produtos com avaliações"
   ]
  },
  {
   "cell_type": "code",
   "execution_count": 113,
   "metadata": {},
   "outputs": [
    {
     "data": {
      "text/plain": [
       "0    [Electronics, iPad & Tablets, All Tablets, Fir...\n",
       "1    [Electronics, iPad & Tablets, All Tablets, Fir...\n",
       "2    [Electronics, iPad & Tablets, All Tablets, Fir...\n",
       "3    [Electronics, iPad & Tablets, All Tablets, Fir...\n",
       "4    [Electronics, iPad & Tablets, All Tablets, Fir...\n",
       "Name: categories, dtype: object"
      ]
     },
     "execution_count": 113,
     "metadata": {},
     "output_type": "execute_result"
    }
   ],
   "source": [
    "df.processed_categories = df.categories.apply(lambda row: row.split(','))\n",
    "df.processed_categories.head()"
   ]
  },
  {
   "cell_type": "code",
   "execution_count": 114,
   "metadata": {},
   "outputs": [
    {
     "data": {
      "text/plain": [
       "Index(['id', 'name', 'asins', 'brand', 'categories', 'keys', 'manufacturer',\n",
       "       'reviews.date', 'reviews.dateAdded', 'reviews.dateSeen',\n",
       "       'reviews.didPurchase', 'reviews.doRecommend', 'reviews.id',\n",
       "       'reviews.numHelpful', 'reviews.rating', 'reviews.sourceURLs',\n",
       "       'reviews.text', 'reviews.title', 'reviews.userCity',\n",
       "       'reviews.userProvince', 'reviews.username'],\n",
       "      dtype='object')"
      ]
     },
     "execution_count": 114,
     "metadata": {},
     "output_type": "execute_result"
    }
   ],
   "source": [
    "df.columns"
   ]
  },
  {
   "cell_type": "code",
   "execution_count": 115,
   "metadata": {},
   "outputs": [
    {
     "data": {
      "text/html": [
       "<div>\n",
       "<style scoped>\n",
       "    .dataframe tbody tr th:only-of-type {\n",
       "        vertical-align: middle;\n",
       "    }\n",
       "\n",
       "    .dataframe tbody tr th {\n",
       "        vertical-align: top;\n",
       "    }\n",
       "\n",
       "    .dataframe thead th {\n",
       "        text-align: right;\n",
       "    }\n",
       "</style>\n",
       "<table border=\"1\" class=\"dataframe\">\n",
       "  <thead>\n",
       "    <tr style=\"text-align: right;\">\n",
       "      <th></th>\n",
       "      <th>name</th>\n",
       "      <th>asins</th>\n",
       "      <th>brand</th>\n",
       "      <th>categories</th>\n",
       "      <th>manufacturer</th>\n",
       "      <th>reviews.title</th>\n",
       "      <th>reviews.text</th>\n",
       "    </tr>\n",
       "  </thead>\n",
       "  <tbody>\n",
       "    <tr>\n",
       "      <th>0</th>\n",
       "      <td>All-New Fire HD 8 Tablet, 8 HD Display, Wi-Fi,...</td>\n",
       "      <td>B01AHB9CN2</td>\n",
       "      <td>Amazon</td>\n",
       "      <td>Electronics,iPad &amp; Tablets,All Tablets,Fire Ta...</td>\n",
       "      <td>Amazon</td>\n",
       "      <td>Kindle</td>\n",
       "      <td>This product so far has not disappointed. My c...</td>\n",
       "    </tr>\n",
       "    <tr>\n",
       "      <th>1</th>\n",
       "      <td>All-New Fire HD 8 Tablet, 8 HD Display, Wi-Fi,...</td>\n",
       "      <td>B01AHB9CN2</td>\n",
       "      <td>Amazon</td>\n",
       "      <td>Electronics,iPad &amp; Tablets,All Tablets,Fire Ta...</td>\n",
       "      <td>Amazon</td>\n",
       "      <td>very fast</td>\n",
       "      <td>great for beginner or experienced person. Boug...</td>\n",
       "    </tr>\n",
       "    <tr>\n",
       "      <th>2</th>\n",
       "      <td>All-New Fire HD 8 Tablet, 8 HD Display, Wi-Fi,...</td>\n",
       "      <td>B01AHB9CN2</td>\n",
       "      <td>Amazon</td>\n",
       "      <td>Electronics,iPad &amp; Tablets,All Tablets,Fire Ta...</td>\n",
       "      <td>Amazon</td>\n",
       "      <td>Beginner tablet for our 9 year old son.</td>\n",
       "      <td>Inexpensive tablet for him to use and learn on...</td>\n",
       "    </tr>\n",
       "    <tr>\n",
       "      <th>3</th>\n",
       "      <td>All-New Fire HD 8 Tablet, 8 HD Display, Wi-Fi,...</td>\n",
       "      <td>B01AHB9CN2</td>\n",
       "      <td>Amazon</td>\n",
       "      <td>Electronics,iPad &amp; Tablets,All Tablets,Fire Ta...</td>\n",
       "      <td>Amazon</td>\n",
       "      <td>Good!!!</td>\n",
       "      <td>I've had my Fire HD 8 two weeks now and I love...</td>\n",
       "    </tr>\n",
       "    <tr>\n",
       "      <th>4</th>\n",
       "      <td>All-New Fire HD 8 Tablet, 8 HD Display, Wi-Fi,...</td>\n",
       "      <td>B01AHB9CN2</td>\n",
       "      <td>Amazon</td>\n",
       "      <td>Electronics,iPad &amp; Tablets,All Tablets,Fire Ta...</td>\n",
       "      <td>Amazon</td>\n",
       "      <td>Fantastic Tablet for kids</td>\n",
       "      <td>I bought this for my grand daughter when she c...</td>\n",
       "    </tr>\n",
       "  </tbody>\n",
       "</table>\n",
       "</div>"
      ],
      "text/plain": [
       "                                                name       asins   brand  \\\n",
       "0  All-New Fire HD 8 Tablet, 8 HD Display, Wi-Fi,...  B01AHB9CN2  Amazon   \n",
       "1  All-New Fire HD 8 Tablet, 8 HD Display, Wi-Fi,...  B01AHB9CN2  Amazon   \n",
       "2  All-New Fire HD 8 Tablet, 8 HD Display, Wi-Fi,...  B01AHB9CN2  Amazon   \n",
       "3  All-New Fire HD 8 Tablet, 8 HD Display, Wi-Fi,...  B01AHB9CN2  Amazon   \n",
       "4  All-New Fire HD 8 Tablet, 8 HD Display, Wi-Fi,...  B01AHB9CN2  Amazon   \n",
       "\n",
       "                                          categories manufacturer  \\\n",
       "0  Electronics,iPad & Tablets,All Tablets,Fire Ta...       Amazon   \n",
       "1  Electronics,iPad & Tablets,All Tablets,Fire Ta...       Amazon   \n",
       "2  Electronics,iPad & Tablets,All Tablets,Fire Ta...       Amazon   \n",
       "3  Electronics,iPad & Tablets,All Tablets,Fire Ta...       Amazon   \n",
       "4  Electronics,iPad & Tablets,All Tablets,Fire Ta...       Amazon   \n",
       "\n",
       "                             reviews.title  \\\n",
       "0                                   Kindle   \n",
       "1                                very fast   \n",
       "2  Beginner tablet for our 9 year old son.   \n",
       "3                                  Good!!!   \n",
       "4                Fantastic Tablet for kids   \n",
       "\n",
       "                                        reviews.text  \n",
       "0  This product so far has not disappointed. My c...  \n",
       "1  great for beginner or experienced person. Boug...  \n",
       "2  Inexpensive tablet for him to use and learn on...  \n",
       "3  I've had my Fire HD 8 two weeks now and I love...  \n",
       "4  I bought this for my grand daughter when she c...  "
      ]
     },
     "execution_count": 115,
     "metadata": {},
     "output_type": "execute_result"
    }
   ],
   "source": [
    "df = df[['name', 'asins', 'brand', 'categories', 'manufacturer', 'reviews.title', 'reviews.text']]\n",
    "#df = df.drop_duplicates(subset=['asins'])\n",
    "df.head()"
   ]
  },
  {
   "cell_type": "code",
   "execution_count": 116,
   "metadata": {},
   "outputs": [],
   "source": [
    "df['name'] = df['name'].map(lambda x: re.split(', | \\s | \\n', str(x).lower()))\n",
    "df['categories'] = df['categories'].map(lambda x: re.split(', | \\&', str(x).lower()))\n",
    "df.set_index('asins', inplace=True)"
   ]
  },
  {
   "cell_type": "code",
   "execution_count": 117,
   "metadata": {},
   "outputs": [
    {
     "data": {
      "text/html": [
       "<div>\n",
       "<style scoped>\n",
       "    .dataframe tbody tr th:only-of-type {\n",
       "        vertical-align: middle;\n",
       "    }\n",
       "\n",
       "    .dataframe tbody tr th {\n",
       "        vertical-align: top;\n",
       "    }\n",
       "\n",
       "    .dataframe thead th {\n",
       "        text-align: right;\n",
       "    }\n",
       "</style>\n",
       "<table border=\"1\" class=\"dataframe\">\n",
       "  <thead>\n",
       "    <tr style=\"text-align: right;\">\n",
       "      <th></th>\n",
       "      <th>name</th>\n",
       "      <th>brand</th>\n",
       "      <th>categories</th>\n",
       "      <th>manufacturer</th>\n",
       "      <th>reviews.title</th>\n",
       "      <th>reviews.text</th>\n",
       "    </tr>\n",
       "    <tr>\n",
       "      <th>asins</th>\n",
       "      <th></th>\n",
       "      <th></th>\n",
       "      <th></th>\n",
       "      <th></th>\n",
       "      <th></th>\n",
       "      <th></th>\n",
       "    </tr>\n",
       "  </thead>\n",
       "  <tbody>\n",
       "    <tr>\n",
       "      <th>B01AHB9CN2</th>\n",
       "      <td>[all-new fire hd 8 tablet, 8 hd display, wi-fi...</td>\n",
       "      <td>Amazon</td>\n",
       "      <td>[electronics,ipad,  tablets,all tablets,fire t...</td>\n",
       "      <td>Amazon</td>\n",
       "      <td>Kindle</td>\n",
       "      <td>This product so far has not disappointed. My c...</td>\n",
       "    </tr>\n",
       "    <tr>\n",
       "      <th>B01AHB9CN2</th>\n",
       "      <td>[all-new fire hd 8 tablet, 8 hd display, wi-fi...</td>\n",
       "      <td>Amazon</td>\n",
       "      <td>[electronics,ipad,  tablets,all tablets,fire t...</td>\n",
       "      <td>Amazon</td>\n",
       "      <td>very fast</td>\n",
       "      <td>great for beginner or experienced person. Boug...</td>\n",
       "    </tr>\n",
       "    <tr>\n",
       "      <th>B01AHB9CN2</th>\n",
       "      <td>[all-new fire hd 8 tablet, 8 hd display, wi-fi...</td>\n",
       "      <td>Amazon</td>\n",
       "      <td>[electronics,ipad,  tablets,all tablets,fire t...</td>\n",
       "      <td>Amazon</td>\n",
       "      <td>Beginner tablet for our 9 year old son.</td>\n",
       "      <td>Inexpensive tablet for him to use and learn on...</td>\n",
       "    </tr>\n",
       "    <tr>\n",
       "      <th>B01AHB9CN2</th>\n",
       "      <td>[all-new fire hd 8 tablet, 8 hd display, wi-fi...</td>\n",
       "      <td>Amazon</td>\n",
       "      <td>[electronics,ipad,  tablets,all tablets,fire t...</td>\n",
       "      <td>Amazon</td>\n",
       "      <td>Good!!!</td>\n",
       "      <td>I've had my Fire HD 8 two weeks now and I love...</td>\n",
       "    </tr>\n",
       "    <tr>\n",
       "      <th>B01AHB9CN2</th>\n",
       "      <td>[all-new fire hd 8 tablet, 8 hd display, wi-fi...</td>\n",
       "      <td>Amazon</td>\n",
       "      <td>[electronics,ipad,  tablets,all tablets,fire t...</td>\n",
       "      <td>Amazon</td>\n",
       "      <td>Fantastic Tablet for kids</td>\n",
       "      <td>I bought this for my grand daughter when she c...</td>\n",
       "    </tr>\n",
       "  </tbody>\n",
       "</table>\n",
       "</div>"
      ],
      "text/plain": [
       "                                                         name   brand  \\\n",
       "asins                                                                   \n",
       "B01AHB9CN2  [all-new fire hd 8 tablet, 8 hd display, wi-fi...  Amazon   \n",
       "B01AHB9CN2  [all-new fire hd 8 tablet, 8 hd display, wi-fi...  Amazon   \n",
       "B01AHB9CN2  [all-new fire hd 8 tablet, 8 hd display, wi-fi...  Amazon   \n",
       "B01AHB9CN2  [all-new fire hd 8 tablet, 8 hd display, wi-fi...  Amazon   \n",
       "B01AHB9CN2  [all-new fire hd 8 tablet, 8 hd display, wi-fi...  Amazon   \n",
       "\n",
       "                                                   categories manufacturer  \\\n",
       "asins                                                                        \n",
       "B01AHB9CN2  [electronics,ipad,  tablets,all tablets,fire t...       Amazon   \n",
       "B01AHB9CN2  [electronics,ipad,  tablets,all tablets,fire t...       Amazon   \n",
       "B01AHB9CN2  [electronics,ipad,  tablets,all tablets,fire t...       Amazon   \n",
       "B01AHB9CN2  [electronics,ipad,  tablets,all tablets,fire t...       Amazon   \n",
       "B01AHB9CN2  [electronics,ipad,  tablets,all tablets,fire t...       Amazon   \n",
       "\n",
       "                                      reviews.title  \\\n",
       "asins                                                 \n",
       "B01AHB9CN2                                   Kindle   \n",
       "B01AHB9CN2                                very fast   \n",
       "B01AHB9CN2  Beginner tablet for our 9 year old son.   \n",
       "B01AHB9CN2                                  Good!!!   \n",
       "B01AHB9CN2                Fantastic Tablet for kids   \n",
       "\n",
       "                                                 reviews.text  \n",
       "asins                                                          \n",
       "B01AHB9CN2  This product so far has not disappointed. My c...  \n",
       "B01AHB9CN2  great for beginner or experienced person. Boug...  \n",
       "B01AHB9CN2  Inexpensive tablet for him to use and learn on...  \n",
       "B01AHB9CN2  I've had my Fire HD 8 two weeks now and I love...  \n",
       "B01AHB9CN2  I bought this for my grand daughter when she c...  "
      ]
     },
     "execution_count": 117,
     "metadata": {},
     "output_type": "execute_result"
    }
   ],
   "source": [
    "df.head()"
   ]
  },
  {
   "cell_type": "code",
   "execution_count": 123,
   "metadata": {},
   "outputs": [],
   "source": [
    "def get_sentiment_score(review):\n",
    "    if not review.get('reviews.text', False):\n",
    "        review['reviews.text'] = ''\n",
    "        return review\n",
    "    \n",
    "    try:\n",
    "        document = types.Document(content=review.get('reviews.text', ''), type=enums.Document.Type.PLAIN_TEXT)\n",
    "        sentiment_score = client.analyze_entity_sentiment(document=document)\n",
    "        review['parsed_text'] = [entity.name for entity in sentiment_score.entities if entity.sentiment.score > 0 or not entity.sentiment.score]\n",
    "    except:\n",
    "        return review\n",
    "     \n",
    "    return review"
   ]
  },
  {
   "cell_type": "code",
   "execution_count": 124,
   "metadata": {},
   "outputs": [],
   "source": [
    "def get_sentiment_score_title(review):\n",
    "    if not review.get('reviews.title', False):\n",
    "        review['parsed_title'] = ''\n",
    "        return review\n",
    "    try:\n",
    "        document = types.Document(content=review.get('reviews.title', ''), type=enums.Document.Type.PLAIN_TEXT)\n",
    "        sentiment_score = client.analyze_entity_sentiment(document=document)\n",
    "        review['parsed_title'] = [entity.name for entity in sentiment_score.entities if entity.sentiment.score > 0 or not entity.sentiment.score] \n",
    "    except:\n",
    "        return review\n",
    "    \n",
    "    \n",
    "    return review"
   ]
  },
  {
   "cell_type": "code",
   "execution_count": 125,
   "metadata": {},
   "outputs": [
    {
     "name": "stdout",
     "output_type": "stream",
     "text": [
      "env: GOOGLE_APPLICATION_CREDENTIALS=/home/luan/tcc/creds/TTC-PLN-edde7bd554e0.json\n"
     ]
    }
   ],
   "source": [
    "%env GOOGLE_APPLICATION_CREDENTIALS=/home/luan/tcc/creds/TTC-PLN-edde7bd554e0.json\n",
    "client = language.LanguageServiceClient()"
   ]
  },
  {
   "cell_type": "code",
   "execution_count": 126,
   "metadata": {},
   "outputs": [],
   "source": [
    "#df['reviews.text'].apply(lambda row: get_sentiment_score(str(row)))\n",
    "dict_dataframe = df.to_dict('records')"
   ]
  },
  {
   "cell_type": "code",
   "execution_count": 130,
   "metadata": {},
   "outputs": [
    {
     "name": "stdout",
     "output_type": "stream",
     "text": [
      "34660/34660(34660)"
     ]
    }
   ],
   "source": [
    "pool = ThreadPoolExecutor(50)\n",
    "#parsed_text_file = open('./parsed_text_file.json', 'w+')\n",
    "count = 0\n",
    "success = 0\n",
    "total = len(dict_dataframe)\n",
    "list_of_futures = []\n",
    "\n",
    "for item in dict_dataframe:\n",
    "    count += 1\n",
    "    \n",
    "    if count % 400 == 0:\n",
    "        time.sleep(60)\n",
    "        \n",
    "    #list_of_futures.append(pool.submit(get_sentiment_score, item))\n",
    "    for future in list_of_futures:\n",
    "        success += 1\n",
    "        return_item = future.result()\n",
    "        list_of_futures.remove(future)\n",
    "        #parsed_text_file.write(json.dumps(return_item)+'\\n')\n",
    "        \n",
    "    sys.stdout.write('\\r{}/{}({})'.format(success, count, total))\n",
    "    sys.stdout.flush()\n",
    "\n",
    "#parsed_text_file.close()"
   ]
  },
  {
   "cell_type": "code",
   "execution_count": 132,
   "metadata": {},
   "outputs": [
    {
     "name": "stdout",
     "output_type": "stream",
     "text": [
      "34660/34660(34660)"
     ]
    }
   ],
   "source": [
    "pool = ThreadPoolExecutor(50)\n",
    "#parsed_text_file = open('./parsed_text_file_title.json', 'w+')\n",
    "count = 0\n",
    "success = 0\n",
    "total = len(dict_dataframe)\n",
    "list_of_futures = []\n",
    "time.sleep(60)\n",
    "for item in dict_dataframe:\n",
    "    count += 1\n",
    "    \n",
    "    if count % 400 == 0:\n",
    "        time.sleep(60)\n",
    "        \n",
    "    #list_of_futures.append(pool.submit(get_sentiment_score_title, item))\n",
    "    for future in list_of_futures:\n",
    "        success += 1\n",
    "        return_item = future.result()\n",
    "        list_of_futures.remove(future)\n",
    "        #parsed_text_file.write(json.dumps(return_item)+'\\n')\n",
    "        \n",
    "    sys.stdout.write('\\r{}/{}({})'.format(success, count, total))\n",
    "    sys.stdout.flush()\n",
    "\n",
    "#parsed_text_file.close()"
   ]
  },
  {
   "cell_type": "code",
   "execution_count": 26,
   "metadata": {},
   "outputs": [],
   "source": [
    "open_title_file = open('./parsed_text_file_title.json', 'r')\n",
    "open_text_file = open('./parsed_text_file.json', 'r')\n",
    "\n",
    "json_data_title = []\n",
    "json_data_text = []\n",
    "\n",
    "for line in open_title_file:\n",
    "    json_data_title.append(json.loads(line))\n",
    "    \n",
    "for line in open_text_file:\n",
    "    json_data_text.append(json.loads(line))\n",
    "    \n",
    "df_title = pd.DataFrame.from_dict(json_data_title)\n",
    "df_text = pd.DataFrame.from_dict(json_data_text)\n",
    "\n",
    "#df = pd.merge(df_title, df_text, on='asins')\n",
    "#df_title['asins']"
   ]
  },
  {
   "cell_type": "code",
   "execution_count": 27,
   "metadata": {},
   "outputs": [],
   "source": [
    "df = pd.read_csv('1429_1.csv')"
   ]
  },
  {
   "cell_type": "code",
   "execution_count": 28,
   "metadata": {},
   "outputs": [
    {
     "data": {
      "text/html": [
       "<div>\n",
       "<style scoped>\n",
       "    .dataframe tbody tr th:only-of-type {\n",
       "        vertical-align: middle;\n",
       "    }\n",
       "\n",
       "    .dataframe tbody tr th {\n",
       "        vertical-align: top;\n",
       "    }\n",
       "\n",
       "    .dataframe thead th {\n",
       "        text-align: right;\n",
       "    }\n",
       "</style>\n",
       "<table border=\"1\" class=\"dataframe\">\n",
       "  <thead>\n",
       "    <tr style=\"text-align: right;\">\n",
       "      <th></th>\n",
       "      <th>parsed_title</th>\n",
       "      <th>reviews.text</th>\n",
       "      <th>parsed_text</th>\n",
       "      <th>id</th>\n",
       "      <th>name</th>\n",
       "      <th>asins</th>\n",
       "      <th>brand</th>\n",
       "      <th>categories</th>\n",
       "      <th>keys</th>\n",
       "      <th>manufacturer</th>\n",
       "      <th>...</th>\n",
       "      <th>reviews.didPurchase</th>\n",
       "      <th>reviews.doRecommend</th>\n",
       "      <th>reviews.id</th>\n",
       "      <th>reviews.numHelpful</th>\n",
       "      <th>reviews.rating</th>\n",
       "      <th>reviews.sourceURLs</th>\n",
       "      <th>reviews.title</th>\n",
       "      <th>reviews.userCity</th>\n",
       "      <th>reviews.userProvince</th>\n",
       "      <th>reviews.username</th>\n",
       "    </tr>\n",
       "  </thead>\n",
       "  <tbody>\n",
       "    <tr>\n",
       "      <th>0</th>\n",
       "      <td>[Kindle]</td>\n",
       "      <td>This product so far has not disappointed. My c...</td>\n",
       "      <td>[product, children, ability, content, ease, co...</td>\n",
       "      <td>AVqkIhwDv8e3D1O-lebb</td>\n",
       "      <td>All-New Fire HD 8 Tablet, 8 HD Display, Wi-Fi,...</td>\n",
       "      <td>B01AHB9CN2</td>\n",
       "      <td>Amazon</td>\n",
       "      <td>Electronics,iPad &amp; Tablets,All Tablets,Fire Ta...</td>\n",
       "      <td>841667104676,amazon/53004484,amazon/b01ahb9cn2...</td>\n",
       "      <td>Amazon</td>\n",
       "      <td>...</td>\n",
       "      <td>NaN</td>\n",
       "      <td>True</td>\n",
       "      <td>NaN</td>\n",
       "      <td>0.0</td>\n",
       "      <td>5.0</td>\n",
       "      <td>http://reviews.bestbuy.com/3545/5620406/review...</td>\n",
       "      <td>Kindle</td>\n",
       "      <td>NaN</td>\n",
       "      <td>NaN</td>\n",
       "      <td>Adapter</td>\n",
       "    </tr>\n",
       "    <tr>\n",
       "      <th>1</th>\n",
       "      <td>[]</td>\n",
       "      <td>great for beginner or experienced person. Boug...</td>\n",
       "      <td>[beginner, person, gift]</td>\n",
       "      <td>AVqkIhwDv8e3D1O-lebb</td>\n",
       "      <td>All-New Fire HD 8 Tablet, 8 HD Display, Wi-Fi,...</td>\n",
       "      <td>B01AHB9CN2</td>\n",
       "      <td>Amazon</td>\n",
       "      <td>Electronics,iPad &amp; Tablets,All Tablets,Fire Ta...</td>\n",
       "      <td>841667104676,amazon/53004484,amazon/b01ahb9cn2...</td>\n",
       "      <td>Amazon</td>\n",
       "      <td>...</td>\n",
       "      <td>NaN</td>\n",
       "      <td>True</td>\n",
       "      <td>NaN</td>\n",
       "      <td>0.0</td>\n",
       "      <td>5.0</td>\n",
       "      <td>http://reviews.bestbuy.com/3545/5620406/review...</td>\n",
       "      <td>very fast</td>\n",
       "      <td>NaN</td>\n",
       "      <td>NaN</td>\n",
       "      <td>truman</td>\n",
       "    </tr>\n",
       "    <tr>\n",
       "      <th>2</th>\n",
       "      <td>[Beginner tablet, son]</td>\n",
       "      <td>Inexpensive tablet for him to use and learn on...</td>\n",
       "      <td>[tablet, NABI, Skype]</td>\n",
       "      <td>AVqkIhwDv8e3D1O-lebb</td>\n",
       "      <td>All-New Fire HD 8 Tablet, 8 HD Display, Wi-Fi,...</td>\n",
       "      <td>B01AHB9CN2</td>\n",
       "      <td>Amazon</td>\n",
       "      <td>Electronics,iPad &amp; Tablets,All Tablets,Fire Ta...</td>\n",
       "      <td>841667104676,amazon/53004484,amazon/b01ahb9cn2...</td>\n",
       "      <td>Amazon</td>\n",
       "      <td>...</td>\n",
       "      <td>NaN</td>\n",
       "      <td>True</td>\n",
       "      <td>NaN</td>\n",
       "      <td>0.0</td>\n",
       "      <td>5.0</td>\n",
       "      <td>http://reviews.bestbuy.com/3545/5620406/review...</td>\n",
       "      <td>Beginner tablet for our 9 year old son.</td>\n",
       "      <td>NaN</td>\n",
       "      <td>NaN</td>\n",
       "      <td>DaveZ</td>\n",
       "    </tr>\n",
       "    <tr>\n",
       "      <th>3</th>\n",
       "      <td>[]</td>\n",
       "      <td>I've had my Fire HD 8 two weeks now and I love...</td>\n",
       "      <td>[Fire HD 8, tablet, running, screen, look, Mem...</td>\n",
       "      <td>AVqkIhwDv8e3D1O-lebb</td>\n",
       "      <td>All-New Fire HD 8 Tablet, 8 HD Display, Wi-Fi,...</td>\n",
       "      <td>B01AHB9CN2</td>\n",
       "      <td>Amazon</td>\n",
       "      <td>Electronics,iPad &amp; Tablets,All Tablets,Fire Ta...</td>\n",
       "      <td>841667104676,amazon/53004484,amazon/b01ahb9cn2...</td>\n",
       "      <td>Amazon</td>\n",
       "      <td>...</td>\n",
       "      <td>NaN</td>\n",
       "      <td>True</td>\n",
       "      <td>NaN</td>\n",
       "      <td>0.0</td>\n",
       "      <td>4.0</td>\n",
       "      <td>http://reviews.bestbuy.com/3545/5620406/review...</td>\n",
       "      <td>Good!!!</td>\n",
       "      <td>NaN</td>\n",
       "      <td>NaN</td>\n",
       "      <td>Shacks</td>\n",
       "    </tr>\n",
       "    <tr>\n",
       "      <th>4</th>\n",
       "      <td>[Tablet, kids]</td>\n",
       "      <td>I bought this for my grand daughter when she c...</td>\n",
       "      <td>[daughter, SD card, sites, age, user, name, ca...</td>\n",
       "      <td>AVqkIhwDv8e3D1O-lebb</td>\n",
       "      <td>All-New Fire HD 8 Tablet, 8 HD Display, Wi-Fi,...</td>\n",
       "      <td>B01AHB9CN2</td>\n",
       "      <td>Amazon</td>\n",
       "      <td>Electronics,iPad &amp; Tablets,All Tablets,Fire Ta...</td>\n",
       "      <td>841667104676,amazon/53004484,amazon/b01ahb9cn2...</td>\n",
       "      <td>Amazon</td>\n",
       "      <td>...</td>\n",
       "      <td>NaN</td>\n",
       "      <td>True</td>\n",
       "      <td>NaN</td>\n",
       "      <td>0.0</td>\n",
       "      <td>5.0</td>\n",
       "      <td>http://reviews.bestbuy.com/3545/5620406/review...</td>\n",
       "      <td>Fantastic Tablet for kids</td>\n",
       "      <td>NaN</td>\n",
       "      <td>NaN</td>\n",
       "      <td>explore42</td>\n",
       "    </tr>\n",
       "  </tbody>\n",
       "</table>\n",
       "<p>5 rows × 23 columns</p>\n",
       "</div>"
      ],
      "text/plain": [
       "             parsed_title                                       reviews.text  \\\n",
       "0                [Kindle]  This product so far has not disappointed. My c...   \n",
       "1                      []  great for beginner or experienced person. Boug...   \n",
       "2  [Beginner tablet, son]  Inexpensive tablet for him to use and learn on...   \n",
       "3                      []  I've had my Fire HD 8 two weeks now and I love...   \n",
       "4          [Tablet, kids]  I bought this for my grand daughter when she c...   \n",
       "\n",
       "                                         parsed_text                    id  \\\n",
       "0  [product, children, ability, content, ease, co...  AVqkIhwDv8e3D1O-lebb   \n",
       "1                           [beginner, person, gift]  AVqkIhwDv8e3D1O-lebb   \n",
       "2                              [tablet, NABI, Skype]  AVqkIhwDv8e3D1O-lebb   \n",
       "3  [Fire HD 8, tablet, running, screen, look, Mem...  AVqkIhwDv8e3D1O-lebb   \n",
       "4  [daughter, SD card, sites, age, user, name, ca...  AVqkIhwDv8e3D1O-lebb   \n",
       "\n",
       "                                                name       asins   brand  \\\n",
       "0  All-New Fire HD 8 Tablet, 8 HD Display, Wi-Fi,...  B01AHB9CN2  Amazon   \n",
       "1  All-New Fire HD 8 Tablet, 8 HD Display, Wi-Fi,...  B01AHB9CN2  Amazon   \n",
       "2  All-New Fire HD 8 Tablet, 8 HD Display, Wi-Fi,...  B01AHB9CN2  Amazon   \n",
       "3  All-New Fire HD 8 Tablet, 8 HD Display, Wi-Fi,...  B01AHB9CN2  Amazon   \n",
       "4  All-New Fire HD 8 Tablet, 8 HD Display, Wi-Fi,...  B01AHB9CN2  Amazon   \n",
       "\n",
       "                                          categories  \\\n",
       "0  Electronics,iPad & Tablets,All Tablets,Fire Ta...   \n",
       "1  Electronics,iPad & Tablets,All Tablets,Fire Ta...   \n",
       "2  Electronics,iPad & Tablets,All Tablets,Fire Ta...   \n",
       "3  Electronics,iPad & Tablets,All Tablets,Fire Ta...   \n",
       "4  Electronics,iPad & Tablets,All Tablets,Fire Ta...   \n",
       "\n",
       "                                                keys manufacturer  ...  \\\n",
       "0  841667104676,amazon/53004484,amazon/b01ahb9cn2...       Amazon  ...   \n",
       "1  841667104676,amazon/53004484,amazon/b01ahb9cn2...       Amazon  ...   \n",
       "2  841667104676,amazon/53004484,amazon/b01ahb9cn2...       Amazon  ...   \n",
       "3  841667104676,amazon/53004484,amazon/b01ahb9cn2...       Amazon  ...   \n",
       "4  841667104676,amazon/53004484,amazon/b01ahb9cn2...       Amazon  ...   \n",
       "\n",
       "  reviews.didPurchase reviews.doRecommend reviews.id reviews.numHelpful  \\\n",
       "0                 NaN                True        NaN                0.0   \n",
       "1                 NaN                True        NaN                0.0   \n",
       "2                 NaN                True        NaN                0.0   \n",
       "3                 NaN                True        NaN                0.0   \n",
       "4                 NaN                True        NaN                0.0   \n",
       "\n",
       "  reviews.rating                                 reviews.sourceURLs  \\\n",
       "0            5.0  http://reviews.bestbuy.com/3545/5620406/review...   \n",
       "1            5.0  http://reviews.bestbuy.com/3545/5620406/review...   \n",
       "2            5.0  http://reviews.bestbuy.com/3545/5620406/review...   \n",
       "3            4.0  http://reviews.bestbuy.com/3545/5620406/review...   \n",
       "4            5.0  http://reviews.bestbuy.com/3545/5620406/review...   \n",
       "\n",
       "                             reviews.title  reviews.userCity  \\\n",
       "0                                   Kindle               NaN   \n",
       "1                                very fast               NaN   \n",
       "2  Beginner tablet for our 9 year old son.               NaN   \n",
       "3                                  Good!!!               NaN   \n",
       "4                Fantastic Tablet for kids               NaN   \n",
       "\n",
       "  reviews.userProvince reviews.username  \n",
       "0                  NaN          Adapter  \n",
       "1                  NaN           truman  \n",
       "2                  NaN            DaveZ  \n",
       "3                  NaN           Shacks  \n",
       "4                  NaN        explore42  \n",
       "\n",
       "[5 rows x 23 columns]"
      ]
     },
     "execution_count": 28,
     "metadata": {},
     "output_type": "execute_result"
    }
   ],
   "source": [
    "df_parsed = pd.merge(df_title[['parsed_title', 'reviews.text']], df_text[['parsed_text', 'reviews.text']], on='reviews.text')\n",
    "df_parsed = pd.merge(df_parsed, df, on='reviews.text')\n",
    "df_parsed.head()"
   ]
  },
  {
   "cell_type": "code",
   "execution_count": 29,
   "metadata": {},
   "outputs": [],
   "source": [
    "df_parsed['parsed_title'] = df_parsed['parsed_title'].apply(lambda x: ', '.join(x) if type(x) == list else '')\n",
    "df_parsed['parsed_text'] = df_parsed['parsed_text'].apply(lambda x: ', '.join(x) if type(x) == list else '')"
   ]
  },
  {
   "cell_type": "code",
   "execution_count": 30,
   "metadata": {},
   "outputs": [],
   "source": [
    "df_merged_title = df_parsed.groupby(['asins'])['parsed_title'].apply(', '.join).reset_index()\n",
    "df_merged_text = df_parsed.groupby(['asins'])['parsed_text'].apply(', '.join).reset_index()"
   ]
  },
  {
   "cell_type": "code",
   "execution_count": 31,
   "metadata": {},
   "outputs": [],
   "source": [
    "df_parsed = pd.merge(df_merged_title, df_merged_text, on='asins')\n",
    "df_parsed['parsed_title'] = df_parsed['parsed_title'].apply(lambda x: x.split(','))\n",
    "df_parsed['parsed_text'] = df_parsed['parsed_text'].apply(lambda x: x.split(','))\n",
    "df_parsed['id'] = df_parsed['asins'].apply(lambda x: x)"
   ]
  },
  {
   "cell_type": "code",
   "execution_count": 32,
   "metadata": {},
   "outputs": [],
   "source": [
    "df_parsed.set_index('asins', inplace=True)"
   ]
  },
  {
   "cell_type": "code",
   "execution_count": 33,
   "metadata": {},
   "outputs": [
    {
     "data": {
      "text/html": [
       "<div>\n",
       "<style scoped>\n",
       "    .dataframe tbody tr th:only-of-type {\n",
       "        vertical-align: middle;\n",
       "    }\n",
       "\n",
       "    .dataframe tbody tr th {\n",
       "        vertical-align: top;\n",
       "    }\n",
       "\n",
       "    .dataframe thead th {\n",
       "        text-align: right;\n",
       "    }\n",
       "</style>\n",
       "<table border=\"1\" class=\"dataframe\">\n",
       "  <thead>\n",
       "    <tr style=\"text-align: right;\">\n",
       "      <th></th>\n",
       "      <th>parsed_title</th>\n",
       "      <th>parsed_text</th>\n",
       "      <th>id</th>\n",
       "    </tr>\n",
       "    <tr>\n",
       "      <th>asins</th>\n",
       "      <th></th>\n",
       "      <th></th>\n",
       "      <th></th>\n",
       "    </tr>\n",
       "  </thead>\n",
       "  <tbody>\n",
       "    <tr>\n",
       "      <th>B002Y27P3M</th>\n",
       "      <td>[money,  Worth,  novels,  light,  E-Reader,  K...</td>\n",
       "      <td>[Kindle,  iPad,  phone,  good,  page-turns,  i...</td>\n",
       "      <td>B002Y27P3M</td>\n",
       "    </tr>\n",
       "    <tr>\n",
       "      <th>B002Y27P6Y</th>\n",
       "      <td>[person,  review,  cover,  protection,  Kindle...</td>\n",
       "      <td>[band,  reviews,  people,  tape,  side corner,...</td>\n",
       "      <td>B002Y27P6Y</td>\n",
       "    </tr>\n",
       "    <tr>\n",
       "      <th>B005PB2T0S</th>\n",
       "      <td>[viewing area,  Step Down,  Quality,  Kindle, ...</td>\n",
       "      <td>[Kindle,  leather cover,  Cover,  Leather,  ch...</td>\n",
       "      <td>B005PB2T0S</td>\n",
       "    </tr>\n",
       "    <tr>\n",
       "      <th>B005PB2T2Q</th>\n",
       "      <td>[,  Slick,  ,  ,  ,  points,  deal busters]</td>\n",
       "      <td>[fan,  one,  DoDo Case,  many,  Kindle,  Amazo...</td>\n",
       "      <td>B005PB2T2Q</td>\n",
       "    </tr>\n",
       "    <tr>\n",
       "      <th>B006GWO5NE</th>\n",
       "      <td>[,  expectation,  Ships,  Fires,  people,  rev...</td>\n",
       "      <td>[gift,  computer,  Kindle Fire HD,  jewel,  ch...</td>\n",
       "      <td>B006GWO5NE</td>\n",
       "    </tr>\n",
       "  </tbody>\n",
       "</table>\n",
       "</div>"
      ],
      "text/plain": [
       "                                                 parsed_title  \\\n",
       "asins                                                           \n",
       "B002Y27P3M  [money,  Worth,  novels,  light,  E-Reader,  K...   \n",
       "B002Y27P6Y  [person,  review,  cover,  protection,  Kindle...   \n",
       "B005PB2T0S  [viewing area,  Step Down,  Quality,  Kindle, ...   \n",
       "B005PB2T2Q        [,  Slick,  ,  ,  ,  points,  deal busters]   \n",
       "B006GWO5NE  [,  expectation,  Ships,  Fires,  people,  rev...   \n",
       "\n",
       "                                                  parsed_text          id  \n",
       "asins                                                                      \n",
       "B002Y27P3M  [Kindle,  iPad,  phone,  good,  page-turns,  i...  B002Y27P3M  \n",
       "B002Y27P6Y  [band,  reviews,  people,  tape,  side corner,...  B002Y27P6Y  \n",
       "B005PB2T0S  [Kindle,  leather cover,  Cover,  Leather,  ch...  B005PB2T0S  \n",
       "B005PB2T2Q  [fan,  one,  DoDo Case,  many,  Kindle,  Amazo...  B005PB2T2Q  \n",
       "B006GWO5NE  [gift,  computer,  Kindle Fire HD,  jewel,  ch...  B006GWO5NE  "
      ]
     },
     "execution_count": 33,
     "metadata": {},
     "output_type": "execute_result"
    }
   ],
   "source": [
    "df_parsed.head()"
   ]
  },
  {
   "cell_type": "code",
   "execution_count": 34,
   "metadata": {},
   "outputs": [],
   "source": [
    "df_parsed['bow'] = ''\n",
    "columns = df_parsed[['parsed_text', 'parsed_title']].columns\n",
    "for index, row in df_parsed.iterrows():\n",
    "    words = ''\n",
    "    for col in columns:\n",
    "        if col not in ['brand', 'manufacturer']:\n",
    "            words = words + ' '.join(row[col])+ ' '\n",
    "        else:\n",
    "            words = words + row[col]+ ' '\n",
    "    row['bow'] = words\n",
    "    \n",
    "df_parsed.drop(columns = [col for col in df_parsed.columns if col!= 'bow'], inplace = True)"
   ]
  },
  {
   "cell_type": "code",
   "execution_count": 35,
   "metadata": {},
   "outputs": [
    {
     "data": {
      "text/html": [
       "<div>\n",
       "<style scoped>\n",
       "    .dataframe tbody tr th:only-of-type {\n",
       "        vertical-align: middle;\n",
       "    }\n",
       "\n",
       "    .dataframe tbody tr th {\n",
       "        vertical-align: top;\n",
       "    }\n",
       "\n",
       "    .dataframe thead th {\n",
       "        text-align: right;\n",
       "    }\n",
       "</style>\n",
       "<table border=\"1\" class=\"dataframe\">\n",
       "  <thead>\n",
       "    <tr style=\"text-align: right;\">\n",
       "      <th></th>\n",
       "      <th>bow</th>\n",
       "    </tr>\n",
       "    <tr>\n",
       "      <th>asins</th>\n",
       "      <th></th>\n",
       "    </tr>\n",
       "  </thead>\n",
       "  <tbody>\n",
       "    <tr>\n",
       "      <th>B002Y27P3M</th>\n",
       "      <td>Kindle  iPad  phone  good  page-turns  impress...</td>\n",
       "    </tr>\n",
       "    <tr>\n",
       "      <th>B002Y27P6Y</th>\n",
       "      <td>band  reviews  people  tape  side corner  revi...</td>\n",
       "    </tr>\n",
       "    <tr>\n",
       "      <th>B005PB2T0S</th>\n",
       "      <td>Kindle  leather cover  Cover  Leather  check  ...</td>\n",
       "    </tr>\n",
       "    <tr>\n",
       "      <th>B005PB2T2Q</th>\n",
       "      <td>fan  one  DoDo Case  many  Kindle  Amazon  pro...</td>\n",
       "    </tr>\n",
       "    <tr>\n",
       "      <th>B006GWO5NE</th>\n",
       "      <td>gift  computer  Kindle Fire HD  jewel  charger...</td>\n",
       "    </tr>\n",
       "  </tbody>\n",
       "</table>\n",
       "</div>"
      ],
      "text/plain": [
       "                                                          bow\n",
       "asins                                                        \n",
       "B002Y27P3M  Kindle  iPad  phone  good  page-turns  impress...\n",
       "B002Y27P6Y  band  reviews  people  tape  side corner  revi...\n",
       "B005PB2T0S  Kindle  leather cover  Cover  Leather  check  ...\n",
       "B005PB2T2Q  fan  one  DoDo Case  many  Kindle  Amazon  pro...\n",
       "B006GWO5NE  gift  computer  Kindle Fire HD  jewel  charger..."
      ]
     },
     "execution_count": 35,
     "metadata": {},
     "output_type": "execute_result"
    }
   ],
   "source": [
    "df_parsed.head()"
   ]
  },
  {
   "cell_type": "code",
   "execution_count": 36,
   "metadata": {},
   "outputs": [
    {
     "data": {
      "text/plain": [
       "0    B002Y27P3M\n",
       "1    B002Y27P6Y\n",
       "2    B005PB2T0S\n",
       "3    B005PB2T2Q\n",
       "4    B006GWO5NE\n",
       "Name: asins, dtype: object"
      ]
     },
     "execution_count": 36,
     "metadata": {},
     "output_type": "execute_result"
    }
   ],
   "source": [
    "count = CountVectorizer()\n",
    "count_matrix = count.fit_transform(df_parsed['bow'])\n",
    "\n",
    "indices = pd.Series(df_parsed.index)\n",
    "indices[:5]\n"
   ]
  },
  {
   "cell_type": "markdown",
   "metadata": {},
   "source": [
    "## Matriz de similaridade\n",
    "$similaridade = cos(\\theta) = \\dfrac{\\boldsymbol{u} \\cdot \\boldsymbol{v}}{\\|{\\boldsymbol{u}}\\|\\|{\\boldsymbol{v}}\\|} = \n",
    "\\dfrac{\\sum_{i = 1}^n u_iv_i}{\\sqrt{\\sum_{i = 1}^n u_i^2}\\sqrt{\\sum_{i = 1}^n v_i^2}}$"
   ]
  },
  {
   "cell_type": "code",
   "execution_count": 45,
   "metadata": {},
   "outputs": [],
   "source": [
    "cosine_sim = cosine_similarity(count_matrix, count_matrix)\n",
    "cosine_sim\n",
    "np.save('cosine_sim_pln', cosine_sim)\n",
    "indices.to_pickle('indices_pln.pkl')\n",
    "df_parsed.to_pickle('df_pln.pkl')"
   ]
  },
  {
   "cell_type": "code",
   "execution_count": 43,
   "metadata": {},
   "outputs": [],
   "source": [
    "def recommendations(pid, cosine_sim = cosine_sim):\n",
    "    \n",
    "    recommended_prds = []\n",
    "    \n",
    "    idx = indices[indices == pid].index[0]\n",
    "    score_series = pd.Series(cosine_sim[idx]).sort_values(ascending = False)\n",
    "    top_5 = list(score_series.iloc[1:6].index)\n",
    "    \n",
    "    for i in top_5:\n",
    "        recommended_prds.append(list(df_parsed.index)[i])\n",
    "        \n",
    "    return recommended_prds"
   ]
  },
  {
   "cell_type": "code",
   "execution_count": 44,
   "metadata": {},
   "outputs": [
    {
     "data": {
      "text/plain": [
       "['B002Y27P6Y', 'B005PB2T2Q', 'B00LW9XOJM', 'B00VINDBJK', 'B00IOY8XWQ']"
      ]
     },
     "execution_count": 44,
     "metadata": {},
     "output_type": "execute_result"
    }
   ],
   "source": [
    "recommendations('B005PB2T0S')"
   ]
  },
  {
   "cell_type": "code",
   "execution_count": null,
   "metadata": {},
   "outputs": [],
   "source": []
  }
 ],
 "metadata": {
  "kernelspec": {
   "display_name": "Python 3",
   "language": "python",
   "name": "python3"
  },
  "language_info": {
   "codemirror_mode": {
    "name": "ipython",
    "version": 3
   },
   "file_extension": ".py",
   "mimetype": "text/x-python",
   "name": "python",
   "nbconvert_exporter": "python",
   "pygments_lexer": "ipython3",
   "version": "3.7.3"
  }
 },
 "nbformat": 4,
 "nbformat_minor": 2
}
